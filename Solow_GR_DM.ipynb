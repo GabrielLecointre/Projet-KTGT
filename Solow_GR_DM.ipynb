{
 "cells": [
  {
   "cell_type": "code",
   "execution_count": 30,
   "metadata": {},
   "outputs": [
    {
     "data": {
      "text/plain": [
       "<matplotlib.lines.Line2D at 0x2363cde67e0>"
      ]
     },
     "execution_count": 30,
     "metadata": {},
     "output_type": "execute_result"
    },
    {
     "data": {
      "image/png": "[encoded data removed]",
      "text/plain": [
       "<Figure size 640x480 with 1 Axes>"
      ]
     },
     "metadata": {},
     "output_type": "display_data"
    }
   ],
   "source": [
    "import numpy as np\n",
    "import matplotlib.pyplot as plt\n",
    "\n",
    "# Parameters\n",
    "alpha = 0.33  # Cobb-Douglas production exponent\n",
    "n = 0.01      # Population growth rate\n",
    "g = 0.02      # Technological progress rate\n",
    "delta = 0.05  # Depreciation rate\n",
    "s_gr = alpha  # Golden rule savings rate (approximately alpha for Cobb-Douglas)\n",
    "s1 = 0.2      # Savings rate period 1\n",
    "s2 = 0.33     # Savings rate period 2\n",
    "A0 = 1     # Initial productivity\n",
    "rho = 0.02    # The time preference parameter\n",
    "teta = 2.     # The inverse of inter-temporal elasticity of substitution\n",
    "k0 = 0.1      # The initial steady state level of capital per effective unit of labor\n",
    "\n",
    "# Définition des périodes\n",
    "T = 30  # Borne de la ligne\n",
    "TS = T/5  # Choisir une valeur pour T pour le choc d'épargne\n",
    "S = 100 # Subdvision de la ligne\n",
    "\n",
    "# Création des valeurs de temps\n",
    "temps_1 = np.linspace(0, TS, S)\n",
    "temps_2 = np.linspace(TS, T, S)\n",
    "\n",
    "# Définition de s pour chaque période\n",
    "s_1 = np.full_like(temps_1, s1)\n",
    "s_2 = np.full_like(temps_2, s2)\n",
    "\n",
    "# Functions\n",
    "def k_sta(s):\n",
    "    return (s/(n+g+delta))**(1/(1-alpha))\n",
    "\n",
    "def k_t(t,s):\n",
    "    k_t = (k_sta(s)**(1-alpha)-(k_sta(s)**(1-alpha)-k0**(1-alpha))*np.exp(-(n+g+delta)*(1-alpha)*t))**(1/(1-alpha))\n",
    "    return k_t\n",
    "\n",
    "def ln_yt(t,s):\n",
    "    return np.log(A0) + np.log(k_t(t,s)) + g*t\n",
    "\n",
    "# Plage de valeurs pour le temps t\n",
    "t_values_1 = np.linspace(0, TS, S)  # t de 0 à 10 avec 2 points\n",
    "t_values_2 = np.linspace(TS, T, S)  # t de 0 à 10 avec 2 points\n",
    "\n",
    "# Création du graphique\n",
    "plt.plot(t_values_1, ln_yt(t_values_1, s1), label=r'$\\ln(y_t)$', color='blue')\n",
    "plt.plot(t_values_2, ln_yt(t_values_2, s2), label=r'$\\ln(y_t)$', color='blue')\n",
    "\n",
    "# Tracé du graphique\n",
    "#plt.plot(temps_1, s_1, label='s = s1 (0 à TS)', color='green')\n",
    "#plt.plot(temps_2, s_2, label='s = s2 (TS à T)', color='red')\n",
    "\n",
    "# Ajout d'une ligne verticale pour marquer T\n",
    "plt.axvline(TS, linestyle='--', color='black', label='T')\n"
   ]
  }
 ],
 "metadata": {
  "kernelspec": {
   "display_name": "Python 3",
   "language": "python",
   "name": "python3"
  },
  "language_info": {
   "codemirror_mode": {
    "name": "ipython",
    "version": 3
   },
   "file_extension": ".py",
   "mimetype": "text/x-python",
   "name": "python",
   "nbconvert_exporter": "python",
   "pygments_lexer": "ipython3",
   "version": "3.12.4"
  }
 },
 "nbformat": 4,
 "nbformat_minor": 2
}
